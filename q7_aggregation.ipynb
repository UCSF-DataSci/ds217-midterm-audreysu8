{
 "cells": [
  {
   "cell_type": "markdown",
   "metadata": {},
   "source": [
    "# Assignment 5, Question 7: Group Operations & Final Analysis\n",
    "\n",
    "**Points: 15**\n",
    "\n",
    "Perform grouped analysis and create summary reports."
   ]
  },
  {
   "cell_type": "markdown",
   "metadata": {},
   "source": [
    "## Setup"
   ]
  },
  {
   "cell_type": "code",
   "execution_count": 1,
   "metadata": {
    "execution": {
     "iopub.execute_input": "2025-10-29T03:33:57.300929Z",
     "iopub.status.busy": "2025-10-29T03:33:57.300729Z",
     "iopub.status.idle": "2025-10-29T03:33:57.801078Z",
     "shell.execute_reply": "2025-10-29T03:33:57.800720Z"
    }
   },
   "outputs": [
    {
     "name": "stdout",
     "output_type": "stream",
     "text": [
      "Loaded 10000 patients\n"
     ]
    }
   ],
   "source": [
    "import pandas as pd\n",
    "import numpy as np\n",
    "import matplotlib.pyplot as plt\n",
    "\n",
    "# Import utilities\n",
    "from q3_data_utils import load_data, summarize_by_group\n",
    "\n",
    "df = load_data('output/q6_load_this_data.csv')\n",
    "print(f\"Loaded {len(df)} patients\")\n",
    "\n",
    "# Prewritten visualization function for grouped analysis\n",
    "def plot_group_comparison(data, x_col, y_col, title):\n",
    "    \"\"\"\n",
    "    Create a bar chart comparing groups.\n",
    "    \n",
    "    Args:\n",
    "        data: DataFrame with grouped data\n",
    "        x_col: Column name for x-axis (groups)\n",
    "        y_col: Column name for y-axis (values)\n",
    "        title: Chart title\n",
    "    \"\"\"\n",
    "    plt.figure(figsize=(10, 6))\n",
    "    data.plot(x=x_col, y=y_col, kind='bar')\n",
    "    plt.title(title)\n",
    "    plt.xticks(rotation=45)\n",
    "    plt.tight_layout()\n",
    "    plt.show()"
   ]
  },
  {
   "cell_type": "markdown",
   "metadata": {},
   "source": [
    "## Part 1: Basic Groupby (5 points)\n",
    "\n",
    "1. Group by 'site' and calculate mean age, BMI, and blood pressure\n",
    "2. Group by 'intervention_group' and count patients\n",
    "3. Use the `summarize_by_group()` utility to get overall statistics by site"
   ]
  },
  {
   "cell_type": "code",
   "execution_count": 2,
   "metadata": {
    "execution": {
     "iopub.execute_input": "2025-10-29T03:33:57.817211Z",
     "iopub.status.busy": "2025-10-29T03:33:57.817076Z",
     "iopub.status.idle": "2025-10-29T03:33:57.821578Z",
     "shell.execute_reply": "2025-10-29T03:33:57.821363Z"
    }
   },
   "outputs": [
    {
     "name": "stdout",
     "output_type": "stream",
     "text": [
      "              age        bmi  systolic_bp  diastolic_bp\n",
      "site                                                   \n",
      "site a  81.208390  26.261570   117.341340     73.529432\n",
      "site b  80.453322  26.137668   117.125561     73.298002\n",
      "site c  80.756392  26.335215   117.937771     73.648336\n",
      "site d  80.759494  26.323917   117.892738     73.604930\n",
      "site e  80.427729  26.327237   117.481809     73.720747\n"
     ]
    }
   ],
   "source": [
    "# TODO: Group by site\n",
    "site_summary = summarize_by_group(df, \"site\", {\"age\": \"mean\", \"bmi\": \"mean\", \"systolic_bp\": \"mean\", \"diastolic_bp\": \"mean\"})\n",
    "print(site_summary)"
   ]
  },
  {
   "cell_type": "code",
   "execution_count": 3,
   "metadata": {
    "execution": {
     "iopub.execute_input": "2025-10-29T03:33:57.822804Z",
     "iopub.status.busy": "2025-10-29T03:33:57.822713Z",
     "iopub.status.idle": "2025-10-29T03:33:57.825481Z",
     "shell.execute_reply": "2025-10-29T03:33:57.825271Z"
    }
   },
   "outputs": [
    {
     "name": "stdout",
     "output_type": "stream",
     "text": [
      "                    patient_id\n",
      "intervention_group            \n",
      "control                   3337\n",
      "treatment a               3321\n",
      "treatment b               3342\n"
     ]
    }
   ],
   "source": [
    "# TODO: Count by intervention group\n",
    "intervention_group_summary = summarize_by_group(df, \"intervention_group\",{\"patient_id\": \"count\"})\n",
    "print(intervention_group_summary)"
   ]
  },
  {
   "cell_type": "markdown",
   "metadata": {},
   "source": [
    "**Note:** The `summarize_by_group()` function has an optional `agg_dict` parameter for custom aggregations. If you don't specify it, it will use `.describe()` on numeric columns. You can use `agg_dict={'age': ['mean', 'std'], 'bmi': 'mean'}` for custom aggregations.\n"
   ]
  },
  {
   "cell_type": "code",
   "execution_count": 4,
   "metadata": {
    "execution": {
     "iopub.execute_input": "2025-10-29T03:33:57.826668Z",
     "iopub.status.busy": "2025-10-29T03:33:57.826603Z",
     "iopub.status.idle": "2025-10-29T03:33:57.829454Z",
     "shell.execute_reply": "2025-10-29T03:33:57.829245Z"
    }
   },
   "outputs": [
    {
     "name": "stdout",
     "output_type": "stream",
     "text": [
      "              age        bmi  patient_id\n",
      "site                                    \n",
      "site a  81.208390  26.261570        2956\n",
      "site b  80.453322  26.137668        2453\n",
      "site c  80.756392  26.335215        2073\n",
      "site d  80.759494  26.323917        1501\n",
      "site e  80.427729  26.327237        1017\n"
     ]
    }
   ],
   "source": [
    "# TODO: Use summarize_by_group utility\n",
    "overall_stats = summarize_by_group(df, \"site\", {'age':'mean', 'bmi': 'mean', 'patient_id': 'count'})\n",
    "print(overall_stats)"
   ]
  },
  {
   "cell_type": "markdown",
   "metadata": {},
   "source": [
    "## Part 2: Multiple Aggregations (5 points)\n",
    "\n",
    "Group by 'site' and apply multiple aggregations:\n",
    "- age: mean, std, min, max\n",
    "- bmi: mean, std\n",
    "- systolic_bp: mean, median\n",
    "\n",
    "Display the results in a well-formatted table."
   ]
  },
  {
   "cell_type": "code",
   "execution_count": 5,
   "metadata": {
    "execution": {
     "iopub.execute_input": "2025-10-29T03:33:57.830703Z",
     "iopub.status.busy": "2025-10-29T03:33:57.830630Z",
     "iopub.status.idle": "2025-10-29T03:33:57.837883Z",
     "shell.execute_reply": "2025-10-29T03:33:57.837688Z"
    }
   },
   "outputs": [
    {
     "name": "stdout",
     "output_type": "stream",
     "text": [
      "              age                                bmi           systolic_bp  \\\n",
      "             mean        std   min    max       mean       std        mean   \n",
      "site                                                                         \n",
      "site a  81.208390  13.569270  44.0  100.0  26.261570  3.737312  117.341340   \n",
      "site b  80.453322  13.313755  45.0  100.0  26.137668  3.630759  117.125561   \n",
      "site c  80.756392  13.225545  43.0  100.0  26.335215  3.703805  117.937771   \n",
      "site d  80.759494  13.357649  45.0  100.0  26.323917  3.661309  117.892738   \n",
      "site e  80.427729  13.600708  44.0  100.0  26.327237  3.629155  117.481809   \n",
      "\n",
      "               \n",
      "       median  \n",
      "site           \n",
      "site a  117.0  \n",
      "site b  117.0  \n",
      "site c  117.0  \n",
      "site d  117.0  \n",
      "site e  117.0  \n",
      "                    outcome_cvd_rate  adverse_events  adherence_pct\n",
      "intervention_group                                                 \n",
      "control                     0.336530        0.068924      60.830686\n",
      "treatment a                 0.319482        0.189100      60.474255\n",
      "treatment b                 0.333633        0.178636      61.149013\n"
     ]
    }
   ],
   "source": [
    "# TODO: Multiple aggregations\n",
    "multiple_agg = summarize_by_group(df, \"site\", {\"age\": [\"mean\", \"std\", \"min\", \"max\"], \"bmi\": [\"mean\", \"std\"], \"systolic_bp\": [\"mean\", \"median\"]})\n",
    "print(multiple_agg)\n",
    "df['outcome_cvd_rate'] = df['outcome_cvd'].map({'yes': 1, 'no': 0})\n",
    "intervention_comparison = summarize_by_group(df, \"intervention_group\", {\"outcome_cvd_rate\": \"mean\", \"adverse_events\": \"mean\", \"adherence_pct\": \"mean\"})\n",
    "print(intervention_comparison)"
   ]
  },
  {
   "cell_type": "markdown",
   "metadata": {},
   "source": [
    "## Part 3: Comparative Analysis (5 points)\n",
    "\n",
    "Compare intervention groups:\n",
    "1. Calculate mean outcome_cvd rate by intervention_group\n",
    "2. Calculate mean adherence_pct by intervention_group\n",
    "3. Create a cross-tabulation of intervention_group vs dropout status\n",
    "4. Visualize the comparison with a bar plot"
   ]
  },
  {
   "cell_type": "code",
   "execution_count": 6,
   "metadata": {
    "execution": {
     "iopub.execute_input": "2025-10-29T03:33:57.839126Z",
     "iopub.status.busy": "2025-10-29T03:33:57.839043Z",
     "iopub.status.idle": "2025-10-29T03:33:57.848270Z",
     "shell.execute_reply": "2025-10-29T03:33:57.848074Z"
    }
   },
   "outputs": [
    {
     "name": "stdout",
     "output_type": "stream",
     "text": [
      "                    outcome_cvd_rate\n",
      "intervention_group                  \n",
      "control                     0.336530\n",
      "treatment a                 0.319482\n",
      "treatment b                 0.333633\n",
      "                    adherence_pct\n",
      "intervention_group               \n",
      "control                 60.830686\n",
      "treatment a             60.474255\n",
      "treatment b             61.149013\n",
      "dropout               No  Yes\n",
      "intervention_group           \n",
      "control             2831  506\n",
      "treatment a         2831  490\n",
      "treatment b         2871  471\n",
      "          cholesterol_total           bmi\n",
      "                       mean    max   mean\n",
      "age_group                                \n",
      "55-69            296.750000  301.0  27.90\n",
      "70+              299.333333  315.0  32.05\n"
     ]
    }
   ],
   "source": [
    "# TODO: Intervention group comparisons\n",
    "# intervention_group_stats = summarize_by_group(df, \"intervention_group\", {\"adherence_pct\": \"mean\", \"outcome_cvd\": \"mean\"})\n",
    "df['dropout_rate'] = df['dropout'].map({'Yes': 1, 'No': 0})\n",
    "intervention_group_outcome = summarize_by_group(df, \"intervention_group\", {\"outcome_cvd_rate\": \"mean\"})\n",
    "print(intervention_group_outcome)\n",
    "intervention_group_adherence = summarize_by_group(df, \"intervention_group\", {\"adherence_pct\": \"mean\"})\n",
    "print(intervention_group_adherence)\n",
    "cross_tabulation = pd.crosstab(df['intervention_group'], df['dropout'])\n",
    "print(cross_tabulation)\n",
    "\n",
    "df_sorted = df.sort_values(by='cholesterol_total', ascending=False).head(10)\n",
    "stats_for_top_10 = summarize_by_group(df_sorted, \"age_group\", {\"cholesterol_total\": [\"mean\", \"max\"], \"bmi\": \"mean\"})\n",
    "print(stats_for_top_10)\n",
    "\n"
   ]
  },
  {
   "cell_type": "code",
   "execution_count": 7,
   "metadata": {
    "execution": {
     "iopub.execute_input": "2025-10-29T03:33:57.849575Z",
     "iopub.status.busy": "2025-10-29T03:33:57.849484Z",
     "iopub.status.idle": "2025-10-29T03:33:57.941018Z",
     "shell.execute_reply": "2025-10-29T03:33:57.940772Z"
    }
   },
   "outputs": [
    {
     "data": {
      "text/plain": [
       "Text(0.5, 0, 'Intervention Group')"
      ]
     },
     "execution_count": 7,
     "metadata": {},
     "output_type": "execute_result"
    },
    {
     "data": {
      "image/png": "[encoded data removed]",
      "text/plain": [
       "<Figure size 1000x600 with 1 Axes>"
      ]
     },
     "metadata": {},
     "output_type": "display_data"
    }
   ],
   "source": [
    "# TODO: Visualization\n",
    "summary = df.groupby('intervention_group').agg({\n",
    "    'outcome_cvd_rate': 'mean', \n",
    "    'adherence_pct': 'mean',  \n",
    "    'dropout_rate': 'mean'      \n",
    "}).reset_index()\n",
    "\n",
    "summary['outcome_cvd_rate'] *= 100\n",
    "summary['dropout_rate'] *= 100\n",
    "\n",
    "# Rename columns for clarity\n",
    "summary.rename(columns={\n",
    "    'outcome_cvd_rate': 'CVD Rate (%)',\n",
    "    'adherence_pct': 'Mean Adherence (%)',\n",
    "    'dropout_rate': 'Dropout Rate (%)'\n",
    "}, inplace=True)\n",
    "\n",
    "summary.plot(x='intervention_group', y=['CVD Rate (%)', 'Mean Adherence (%)', 'Dropout Rate (%)'], kind='bar', figsize=(10, 6))\n",
    "plt.title(\"Comparisons Across Intervention Groups\")\n",
    "plt.xlabel(\"Intervention Group\")\n"
   ]
  },
  {
   "cell_type": "markdown",
   "metadata": {},
   "source": [
    "## Part 4: Final Report\n",
    "\n",
    "Create and save:\n",
    "1. Summary statistics by site → `output/q7_site_summary.csv`\n",
    "2. Intervention group comparison → `output/q7_intervention_comparison.csv`\n",
    "3. Text report with key findings → `output/q7_analysis_report.txt`"
   ]
  },
  {
   "cell_type": "code",
   "execution_count": 8,
   "metadata": {
    "execution": {
     "iopub.execute_input": "2025-10-29T03:33:57.942442Z",
     "iopub.status.busy": "2025-10-29T03:33:57.942367Z",
     "iopub.status.idle": "2025-10-29T03:33:57.947009Z",
     "shell.execute_reply": "2025-10-29T03:33:57.946789Z"
    }
   },
   "outputs": [],
   "source": [
    "# TODO: Save summary outputs\n",
    "overall_stats.to_csv(\"output/q7_site_summary\", index=False)\n",
    "intervention_comparison.to_csv(\"output/q7_intervention_comparison.csv\")\n",
    "\n",
    "with open('output/q7_analysis_report.txt', 'w') as f:\n",
    "    \n",
    "    f.write(\"Analysis Report\\n\")\n",
    "    f.write(\"=================\\n\\n\")\n",
    "    \n",
    "    f.write(\"Mean CVD Outcome CVD by Intervention Group:\\n\")\n",
    "    f.write(intervention_group_outcome.to_string(index=False))\n",
    "    f.write(\"\\nWe see that for the control group, around 33.6 percent of patients experienced a cardiovascular event. For the Treatment B group, around 33.3 percent of patients experineced a cardiovasscular event (this is similar to the control group). For the Treatment A group, around 31.9 percent of patients experienced a cardiovascular event, which is lower than both the Control and Treatment B groups. This suggests that Treatment A offers a slight improvement over control in reducing the incidence of cardiovascular events\\n\")\n",
    "    f.write(\"\\n\\n\")\n",
    "    \n",
    "    f.write(\"Mean Adherence by Intervention Group:\\n\")\n",
    "    f.write(intervention_group_adherence.to_string(index=False))\n",
    "    f.write(\"\\nWe see that for the control group, around 60.8 percent of patients experienced a cardiovascular event. For the Treatment B group, around 61.1 percent of patients experineced a cardiovasscular event (this is similar to the control group). For the Treatment A group, around 60.5 percent of patients experienced a cardiovascular event. The CVD Rate among all three groups is fairly similar, indicating that Treatment A and Treatment B don't offer a significant improvement beyond the control.\\n\")\n",
    "    f.write(\"\\n\\n\")\n",
    "    \n",
    "    f.write(\"Dropout Counts by Intervention Group:\\n\")\n",
    "    f.write(cross_tabulation.to_string())\n",
    "    f.write(\"\\nWe see that for the control group, 506 patients dropped out of the study. For Treatment A, 490 patients dropped out of the study. For Treatment B, 471 patients dropped out of the study.\\n\")\n",
    "    f.write(\"\\n\\n\")\n",
    "    "
   ]
  },
  {
   "cell_type": "markdown",
   "metadata": {},
   "source": [
    "## Summary\n",
    "\n",
    "What are the 3 most important findings from your analysis?"
   ]
  },
  {
   "cell_type": "markdown",
   "metadata": {},
   "source": [
    "**Key Findings:**\n",
    "\n",
    "1. Treatment A seems to offer an improvement over the control in reducing the rate of participants that experienced a cardiovascular event. \n",
    "2. The adherence for all three groups seems to be similar. \n",
    "3. Treatment A had the second-highest amount of patients drop out of the study, but had lower amounts of patients drop out than the control. This means that Treatment A is fairly effective and Treatment A has fairly strong participant adherence and retention. Therefore, Treatment A seems fairly viable."
   ]
  }
 ],
 "metadata": {
  "kernelspec": {
   "display_name": "p3 (3.10.13)",
   "language": "python",
   "name": "python3"
  },
  "language_info": {
   "codemirror_mode": {
    "name": "ipython",
    "version": 3
   },
   "file_extension": ".py",
   "mimetype": "text/x-python",
   "name": "python",
   "nbconvert_exporter": "python",
   "pygments_lexer": "ipython3",
   "version": "3.10.13"
  }
 },
 "nbformat": 4,
 "nbformat_minor": 2
}
