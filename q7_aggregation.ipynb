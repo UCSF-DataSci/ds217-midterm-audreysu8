{
 "cells": [
  {
   "cell_type": "markdown",
   "metadata": {},
   "source": [
    "# Assignment 5, Question 7: Group Operations & Final Analysis\n",
    "\n",
    "**Points: 15**\n",
    "\n",
    "Perform grouped analysis and create summary reports."
   ]
  },
  {
   "cell_type": "markdown",
   "metadata": {},
   "source": [
    "## Setup"
   ]
  },
  {
   "cell_type": "code",
   "execution_count": 1,
   "metadata": {
    "execution": {
     "iopub.execute_input": "2025-10-26T22:45:43.579419Z",
     "iopub.status.busy": "2025-10-26T22:45:43.579228Z",
     "iopub.status.idle": "2025-10-26T22:45:44.048767Z",
     "shell.execute_reply": "2025-10-26T22:45:44.048506Z"
    }
   },
   "outputs": [
    {
     "name": "stdout",
     "output_type": "stream",
     "text": [
      "Loaded 10000 patients\n"
     ]
    }
   ],
   "source": [
    "import pandas as pd\n",
    "import numpy as np\n",
    "import matplotlib.pyplot as plt\n",
    "\n",
    "# Import utilities\n",
    "from q3_data_utils import load_data, summarize_by_group\n",
    "\n",
    "df = load_data('output/q6_load_this_data.csv')\n",
    "print(f\"Loaded {len(df)} patients\")\n",
    "\n",
    "# Prewritten visualization function for grouped analysis\n",
    "def plot_group_comparison(data, x_col, y_col, title):\n",
    "    \"\"\"\n",
    "    Create a bar chart comparing groups.\n",
    "    \n",
    "    Args:\n",
    "        data: DataFrame with grouped data\n",
    "        x_col: Column name for x-axis (groups)\n",
    "        y_col: Column name for y-axis (values)\n",
    "        title: Chart title\n",
    "    \"\"\"\n",
    "    plt.figure(figsize=(10, 6))\n",
    "    data.plot(x=x_col, y=y_col, kind='bar')\n",
    "    plt.title(title)\n",
    "    plt.xticks(rotation=45)\n",
    "    plt.tight_layout()\n",
    "    plt.show()"
   ]
  },
  {
   "cell_type": "markdown",
   "metadata": {},
   "source": [
    "## Part 1: Basic Groupby (5 points)\n",
    "\n",
    "1. Group by 'site' and calculate mean age, BMI, and blood pressure\n",
    "2. Group by 'intervention_group' and count patients\n",
    "3. Use the `summarize_by_group()` utility to get overall statistics by site"
   ]
  },
  {
   "cell_type": "code",
   "execution_count": 2,
   "metadata": {
    "execution": {
     "iopub.execute_input": "2025-10-26T22:45:44.063389Z",
     "iopub.status.busy": "2025-10-26T22:45:44.063191Z",
     "iopub.status.idle": "2025-10-26T22:45:44.067224Z",
     "shell.execute_reply": "2025-10-26T22:45:44.067026Z"
    }
   },
   "outputs": [
    {
     "name": "stdout",
     "output_type": "stream",
     "text": [
      "              age        bmi  systolic_bp  diastolic_bp\n",
      "site                                                   \n",
      "site a  56.364005  25.878687   117.341340     73.529432\n",
      "site b  62.401957  25.718997   117.125561     73.298002\n",
      "site c  57.312108  25.800241   117.937771     73.648336\n",
      "site d  63.491006  25.588541   117.892738     73.604930\n",
      "site e  57.064897  25.511504   117.481809     73.720747\n"
     ]
    }
   ],
   "source": [
    "# TODO: Group by site\n",
    "site_summary = summarize_by_group(df, \"site\", {\"age\": \"mean\", \"bmi\": \"mean\", \"systolic_bp\": \"mean\", \"diastolic_bp\": \"mean\"})\n",
    "print(site_summary)"
   ]
  },
  {
   "cell_type": "code",
   "execution_count": 3,
   "metadata": {
    "execution": {
     "iopub.execute_input": "2025-10-26T22:45:44.068316Z",
     "iopub.status.busy": "2025-10-26T22:45:44.068245Z",
     "iopub.status.idle": "2025-10-26T22:45:44.070893Z",
     "shell.execute_reply": "2025-10-26T22:45:44.070693Z"
    }
   },
   "outputs": [
    {
     "name": "stdout",
     "output_type": "stream",
     "text": [
      "                    patient_id\n",
      "intervention_group            \n",
      "control                   3337\n",
      "treatment a               3321\n",
      "treatment b               3342\n"
     ]
    }
   ],
   "source": [
    "# TODO: Count by intervention group\n",
    "intervention_group_summary = summarize_by_group(df, \"intervention_group\",{\"patient_id\": \"count\"})\n",
    "print(intervention_group_summary)"
   ]
  },
  {
   "cell_type": "markdown",
   "metadata": {},
   "source": [
    "**Note:** The `summarize_by_group()` function has an optional `agg_dict` parameter for custom aggregations. If you don't specify it, it will use `.describe()` on numeric columns. You can use `agg_dict={'age': ['mean', 'std'], 'bmi': 'mean'}` for custom aggregations.\n"
   ]
  },
  {
   "cell_type": "code",
   "execution_count": 4,
   "metadata": {
    "execution": {
     "iopub.execute_input": "2025-10-26T22:45:44.072127Z",
     "iopub.status.busy": "2025-10-26T22:45:44.072060Z",
     "iopub.status.idle": "2025-10-26T22:45:44.100760Z",
     "shell.execute_reply": "2025-10-26T22:45:44.100551Z"
    }
   },
   "outputs": [
    {
     "name": "stdout",
     "output_type": "stream",
     "text": [
      "           age                                                            bmi  \\\n",
      "         count       mean         std    min   25%   50%   75%    max   count   \n",
      "site                                                                            \n",
      "site a  2956.0  56.364005  162.536292 -999.0  70.0  81.0  93.0  100.0  2956.0   \n",
      "site b  2453.0  62.401957  139.050180 -999.0  69.0  80.0  92.0  100.0  2453.0   \n",
      "site c  2073.0  57.312108  157.941868 -999.0  70.0  80.0  91.0  100.0  2073.0   \n",
      "site d  1501.0  63.491006  136.140058 -999.0  70.0  80.0  92.0  100.0  1501.0   \n",
      "site e  1017.0  57.064897  157.697644 -999.0  69.0  80.0  92.0  100.0  1017.0   \n",
      "\n",
      "                   ... adherence_pct        cholesterol_ratio            \\\n",
      "             mean  ...           75%    max             count      mean   \n",
      "site               ...                                                    \n",
      "site a  25.878687  ...          73.0  100.0            2956.0  3.026288   \n",
      "site b  25.718997  ...          72.0  100.0            2453.0  3.001913   \n",
      "site c  25.800241  ...          72.0  100.0            2073.0  3.038924   \n",
      "site d  25.588541  ...          72.0  100.0            1501.0  2.975383   \n",
      "site e  25.511504  ...          69.0  100.0            1017.0  3.077303   \n",
      "\n",
      "                                                                     \n",
      "             std       min       25%       50%       75%        max  \n",
      "site                                                                 \n",
      "site a  0.901761  1.178571  2.415385  2.901639  3.470685   9.400000  \n",
      "site b  0.865840  1.207317  2.411111  2.901639  3.400000   9.586207  \n",
      "site c  0.963842  1.148936  2.405063  2.901639  3.436364  12.115385  \n",
      "site d  0.864297  1.150538  2.383333  2.888889  3.407407   7.892857  \n",
      "site e  0.950930  1.207317  2.440678  2.901639  3.509091   9.115385  \n",
      "\n",
      "[5 rows x 96 columns]\n"
     ]
    }
   ],
   "source": [
    "# TODO: Use summarize_by_group utility\n",
    "overall_stats = summarize_by_group(df, \"site\")\n",
    "print(overall_stats)"
   ]
  },
  {
   "cell_type": "markdown",
   "metadata": {},
   "source": [
    "## Part 2: Multiple Aggregations (5 points)\n",
    "\n",
    "Group by 'site' and apply multiple aggregations:\n",
    "- age: mean, std, min, max\n",
    "- bmi: mean, std\n",
    "- systolic_bp: mean, median\n",
    "\n",
    "Display the results in a well-formatted table."
   ]
  },
  {
   "cell_type": "code",
   "execution_count": 5,
   "metadata": {
    "execution": {
     "iopub.execute_input": "2025-10-26T22:45:44.102021Z",
     "iopub.status.busy": "2025-10-26T22:45:44.101941Z",
     "iopub.status.idle": "2025-10-26T22:45:44.107621Z",
     "shell.execute_reply": "2025-10-26T22:45:44.107401Z"
    }
   },
   "outputs": [
    {
     "name": "stdout",
     "output_type": "stream",
     "text": [
      "              age                              bmi           systolic_bp  \\\n",
      "             mean         std  min  max       mean       std        mean   \n",
      "site                                                                       \n",
      "site a  56.364005  162.536292 -999  100  25.878687  4.912664  117.341340   \n",
      "site b  62.401957  139.050180 -999  100  25.718997  4.911263  117.125561   \n",
      "site c  57.312108  157.941868 -999  100  25.800241  5.278374  117.937771   \n",
      "site d  63.491006  136.140058 -999  100  25.588541  5.725171  117.892738   \n",
      "site e  57.064897  157.697644 -999  100  25.511504  5.878845  117.481809   \n",
      "\n",
      "               \n",
      "       median  \n",
      "site           \n",
      "site a  117.0  \n",
      "site b  117.0  \n",
      "site c  117.0  \n",
      "site d  117.0  \n",
      "site e  117.0  \n"
     ]
    }
   ],
   "source": [
    "# TODO: Multiple aggregations\n",
    "multiple_agg = summarize_by_group(df, \"site\", {\"age\": [\"mean\", \"std\", \"min\", \"max\"], \"bmi\": [\"mean\", \"std\"], \"systolic_bp\": [\"mean\", \"median\"]})\n",
    "print(multiple_agg)"
   ]
  },
  {
   "cell_type": "markdown",
   "metadata": {},
   "source": [
    "## Part 3: Comparative Analysis (5 points)\n",
    "\n",
    "Compare intervention groups:\n",
    "1. Calculate mean outcome_cvd rate by intervention_group\n",
    "2. Calculate mean adherence_pct by intervention_group\n",
    "3. Create a cross-tabulation of intervention_group vs dropout status\n",
    "4. Visualize the comparison with a bar plot"
   ]
  },
  {
   "cell_type": "code",
   "execution_count": 6,
   "metadata": {
    "execution": {
     "iopub.execute_input": "2025-10-26T22:45:44.108841Z",
     "iopub.status.busy": "2025-10-26T22:45:44.108763Z",
     "iopub.status.idle": "2025-10-26T22:45:44.115633Z",
     "shell.execute_reply": "2025-10-26T22:45:44.115418Z"
    }
   },
   "outputs": [
    {
     "name": "stdout",
     "output_type": "stream",
     "text": [
      "                    outcome_cvd\n",
      "intervention_group             \n",
      "control                0.336530\n",
      "treatment a            0.319482\n",
      "treatment b            0.333633\n",
      "                    adherence_pct\n",
      "intervention_group               \n",
      "control                 60.830686\n",
      "treatment a             60.474255\n",
      "treatment b             61.149013\n",
      "dropout               No  Yes\n",
      "intervention_group           \n",
      "control             2831  506\n",
      "treatment a         2831  490\n",
      "treatment b         2871  471\n"
     ]
    }
   ],
   "source": [
    "# TODO: Intervention group comparisons\n",
    "# intervention_group_stats = summarize_by_group(df, \"intervention_group\", {\"adherence_pct\": \"mean\", \"outcome_cvd\": \"mean\"})\n",
    "df['outcome_cvd'] = df['outcome_cvd'].map({'yes': 1, 'no': 0})\n",
    "intervention_group_outcome = summarize_by_group(df, \"intervention_group\", {\"outcome_cvd\": \"mean\"})\n",
    "print(intervention_group_outcome)\n",
    "intervention_group_adherence = summarize_by_group(df, \"intervention_group\", {\"adherence_pct\": \"mean\"})\n",
    "print(intervention_group_adherence)\n",
    "cross_tabulation = pd.crosstab(df['intervention_group'], df['dropout'])\n",
    "print(cross_tabulation)"
   ]
  },
  {
   "cell_type": "code",
   "execution_count": null,
   "metadata": {
    "execution": {
     "iopub.execute_input": "2025-10-26T22:45:44.116777Z",
     "iopub.status.busy": "2025-10-26T22:45:44.116698Z",
     "iopub.status.idle": "2025-10-26T22:45:44.175332Z",
     "shell.execute_reply": "2025-10-26T22:45:44.175108Z"
    }
   },
   "outputs": [
    {
     "data": {
      "text/plain": [
       "<Axes: xlabel='intervention_group'>"
      ]
     },
     "execution_count": 7,
     "metadata": {},
     "output_type": "execute_result"
    },
    {
     "data": {
      "image/png": "[encoded data removed]",
      "text/plain": [
       "<Figure size 640x480 with 1 Axes>"
      ]
     },
     "metadata": {},
     "output_type": "display_data"
    }
   ],
   "source": [
    "# TODO: Visualization\n",
    "intervention_group_outcome.plot(kind='bar', title='Mean CVD Outcome by Intervention Group')\n",
    "intervention_group_adherence.plot(kind='bar', title='Mean Adherence Percentage by Intervention Group')\n",
    "cross_tabulation.plot(kind='bar', title = 'Droput Counts by Intervention Group')"
   ]
  },
  {
   "cell_type": "markdown",
   "metadata": {},
   "source": [
    "## Part 4: Final Report\n",
    "\n",
    "Create and save:\n",
    "1. Summary statistics by site → `output/q7_site_summary.csv`\n",
    "2. Intervention group comparison → `output/q7_intervention_comparison.csv`\n",
    "3. Text report with key findings → `output/q7_analysis_report.txt`"
   ]
  },
  {
   "cell_type": "code",
   "execution_count": 8,
   "metadata": {
    "execution": {
     "iopub.execute_input": "2025-10-26T22:45:44.176777Z",
     "iopub.status.busy": "2025-10-26T22:45:44.176704Z",
     "iopub.status.idle": "2025-10-26T22:45:44.183885Z",
     "shell.execute_reply": "2025-10-26T22:45:44.183679Z"
    }
   },
   "outputs": [],
   "source": [
    "# TODO: Save summary outputs\n",
    "overall_stats.to_csv(\"output/q7_site_summary\", index=False)\n",
    "cross_tabulation.to_csv(\"output/q7_intervention_comparison.csv\")\n",
    "\n",
    "with open('output/q7_analysis_report.txt', 'w') as f:\n",
    "    \n",
    "    f.write(\"Analysis Report\\n\")\n",
    "    f.write(\"=================\\n\\n\")\n",
    "    \n",
    "    f.write(\"Mean CVD Outcome CVD by Intervention Group:\\n\")\n",
    "    f.write(intervention_group_outcome.to_string(index=False))\n",
    "    f.write(\"\\nWe see that for the control group, around 33.6 percent of patients experienced a cardiovascular event. For the Treatment B group, around 33.3 percent of patients experineced a cardiovasscular event (this is similar to the control group). For the Treatment A group, around 31.9 percent of patients experienced a cardiovascular event, which is lower than both the Control and Treatment B groups. This suggests that Treatment A offers a slight improvement over control in reducing the incidence of cardiovascular events\\n\")\n",
    "    f.write(\"\\n\\n\")\n",
    "    \n",
    "    f.write(\"Mean Adherence by Intervention Group:\\n\")\n",
    "    f.write(intervention_group_adherence.to_string(index=False))\n",
    "    f.write(\"\\nWe see that for the control group, around 60.8 percent of patients experienced a cardiovascular event. For the Treatment B group, around 61.1 percent of patients experineced a cardiovasscular event (this is similar to the control group). For the Treatment A group, around 60.5 percent of patients experienced a cardiovascular event. The CVD Rate among all three groups is fairly similar, indicating that Treatment A and Treatment B don't offer a significant improvement beyond the control.\\n\")\n",
    "    f.write(\"\\n\\n\")\n",
    "    \n",
    "    f.write(\"Dropout Counts by Intervention Group:\\n\")\n",
    "    f.write(cross_tabulation.to_string())\n",
    "    f.write(\"\\nWe see that for the control group, 506 patients dropped out of the study. For Treatment A, 490 patients dropped out of the study. For Treatment B, 471 patients dropped out of the study.\\n\")\n",
    "    f.write(\"\\n\\n\")\n",
    "    "
   ]
  },
  {
   "cell_type": "markdown",
   "metadata": {},
   "source": [
    "## Summary\n",
    "\n",
    "What are the 3 most important findings from your analysis?"
   ]
  },
  {
   "cell_type": "markdown",
   "metadata": {},
   "source": [
    "**Key Findings:**\n",
    "\n",
    "1. Treatment A seems to offer an improvement over the control in reducing the rate of participants that experienced a cardiovascular event. \n",
    "2. The adherence for all three groups seems to be similar. \n",
    "3. Treatment A had the second-highest amount of patients drop out of the study, but had lower amounts of patients drop out than the control. This means that Treatment A is fairly effective and Treatment A has fairly strong participant adherence and retention. Therefore, Treatment A seems fairly viable."
   ]
  }
 ],
 "metadata": {
  "kernelspec": {
   "display_name": "p3 (3.10.13)",
   "language": "python",
   "name": "python3"
  },
  "language_info": {
   "codemirror_mode": {
    "name": "ipython",
    "version": 3
   },
   "file_extension": ".py",
   "mimetype": "text/x-python",
   "name": "python",
   "nbconvert_exporter": "python",
   "pygments_lexer": "ipython3",
   "version": "3.10.13"
  }
 },
 "nbformat": 4,
 "nbformat_minor": 2
}
