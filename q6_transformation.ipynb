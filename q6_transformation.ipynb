{
 "cells": [
  {
   "cell_type": "markdown",
   "metadata": {},
   "source": [
    "# Assignment 5, Question 6: Data Transformation\n",
    "\n",
    "**Points: 20**\n",
    "\n",
    "Transform and engineer features from the clinical trial dataset."
   ]
  },
  {
   "cell_type": "markdown",
   "metadata": {},
   "source": [
    "## Setup"
   ]
  },
  {
   "cell_type": "code",
   "execution_count": 1,
   "metadata": {
    "execution": {
     "iopub.execute_input": "2025-10-29T19:48:31.455229Z",
     "iopub.status.busy": "2025-10-29T19:48:31.454758Z",
     "iopub.status.idle": "2025-10-29T19:48:31.953581Z",
     "shell.execute_reply": "2025-10-29T19:48:31.953300Z"
    }
   },
   "outputs": [
    {
     "name": "stdout",
     "output_type": "stream",
     "text": [
      "Loaded 10000 patients\n"
     ]
    }
   ],
   "source": [
    "import pandas as pd\n",
    "import numpy as np\n",
    "import matplotlib.pyplot as plt\n",
    "\n",
    "# Import utilities\n",
    "from q3_data_utils import load_data, clean_data, transform_types, create_bins, fill_missing\n",
    "\n",
    "df = load_data('output/q5_cleaned_data.csv')\n",
    "print(f\"Loaded {len(df)} patients\")\n",
    "\n",
    "# Prewritten visualization functions for transformation analysis\n",
    "def plot_distribution(series, title, figsize=(10, 6)):\n",
    "    \"\"\"\n",
    "    Create a histogram of a numeric series.\n",
    "    \n",
    "    Args:\n",
    "        series: pandas Series with numeric data\n",
    "        title: Chart title\n",
    "        figsize: Figure size tuple\n",
    "    \"\"\"\n",
    "    plt.figure(figsize=figsize)\n",
    "    series.hist(bins=30)\n",
    "    plt.title(title)\n",
    "    plt.xlabel('Value')\n",
    "    plt.ylabel('Frequency')\n",
    "    plt.tight_layout()\n",
    "    plt.show()\n",
    "\n",
    "def plot_value_counts(series, title, figsize=(10, 6)):\n",
    "    \"\"\"\n",
    "    Create a bar chart of value counts.\n",
    "    \n",
    "    Args:\n",
    "        series: pandas Series with value counts\n",
    "        title: Chart title\n",
    "        figsize: Figure size tuple\n",
    "    \"\"\"\n",
    "    plt.figure(figsize=figsize)\n",
    "    series.plot(kind='bar')\n",
    "    plt.title(title)\n",
    "    plt.xticks(rotation=45)\n",
    "    plt.tight_layout()\n",
    "    plt.show()"
   ]
  },
  {
   "cell_type": "markdown",
   "metadata": {},
   "source": [
    "## Part 1: Type Conversions (5 points)\n",
    "\n",
    "1. Convert 'enrollment_date' to datetime using the `transform_types()` utility\n",
    "2. Convert categorical columns ('site', 'intervention_group', 'sex') to category dtype\n",
    "3. Ensure all numeric columns are proper numeric types\n",
    "4. Display the updated dtypes"
   ]
  },
  {
   "cell_type": "code",
   "execution_count": 2,
   "metadata": {
    "execution": {
     "iopub.execute_input": "2025-10-29T19:48:31.972148Z",
     "iopub.status.busy": "2025-10-29T19:48:31.971955Z",
     "iopub.status.idle": "2025-10-29T19:48:31.979577Z",
     "shell.execute_reply": "2025-10-29T19:48:31.979367Z"
    }
   },
   "outputs": [
    {
     "name": "stdout",
     "output_type": "stream",
     "text": [
      "patient_id                    object\n",
      "age                          float64\n",
      "sex                         category\n",
      "bmi                          float64\n",
      "enrollment_date       datetime64[ns]\n",
      "systolic_bp                  float64\n",
      "diastolic_bp                 float64\n",
      "cholesterol_total            float64\n",
      "cholesterol_hdl              float64\n",
      "cholesterol_ldl              float64\n",
      "glucose_fasting              float64\n",
      "site                        category\n",
      "intervention_group          category\n",
      "follow_up_months               int64\n",
      "adverse_events                 int64\n",
      "outcome_cvd                   object\n",
      "adherence_pct                float64\n",
      "dropout                       object\n",
      "dtype: object\n"
     ]
    }
   ],
   "source": [
    "# TODO: Type conversions\n",
    "# 1. Use transform_types() to convert enrollment_date to datetime\n",
    "# 2. Convert categorical columns ('site', 'intervention_group', 'sex') to category dtype\n",
    "# 3. Ensure all numeric columns are proper numeric types\n",
    "# 4. Display the updated dtypes using df.dtypes\n",
    "df = transform_types(df, {'enrollment_date': 'datetime'})\n",
    "df = transform_types(df, {'site': 'category', 'intervention_group': 'category', 'sex': 'category'})\n",
    "\n",
    "df = transform_types(df, {\"age\": \"numeric\", \"bmi\": \"numeric\", \"systolic_bp\": \"numeric\", \"diastolic_bp\": \"numeric\", \"cholesterol_total\": \"numeric\", \"cholesterol_hdl\": \"numeric\", \"cholesterol_ldl\": \"numeric\", \"glucose_fasting\": \"numeric\", \"follow_up_months\": \"numeric\", \"adherence_pct\": \"numeric\", \"adverse_events\": \"numeric\"})\n",
    "print(df.dtypes)"
   ]
  },
  {
   "cell_type": "markdown",
   "metadata": {},
   "source": [
    "## Part 2: Feature Engineering (8 points)\n",
    "\n",
    "Create these new calculated columns:\n",
    "\n",
    "1. `cholesterol_ratio` = cholesterol_ldl / cholesterol_hdl\n",
    "2. `bp_category` = categorize systolic BP:\n",
    "   - 'Normal': < 120\n",
    "   - 'Elevated': 120-129\n",
    "   - 'High': >= 130\n",
    "3. `age_group` using `create_bins()` utility:\n",
    "   - Bins: [0, 40, 55, 70, 100]\n",
    "   - Labels: ['<40', '40-54', '55-69', '70+']\n",
    "4. `bmi_category` using standard BMI categories:\n",
    "   - Underweight: <18.5\n",
    "   - Normal: 18.5-24.9\n",
    "   - Overweight: 25-29.9\n",
    "   - Obese: >=30"
   ]
  },
  {
   "cell_type": "code",
   "execution_count": 3,
   "metadata": {
    "execution": {
     "iopub.execute_input": "2025-10-29T19:48:31.980792Z",
     "iopub.status.busy": "2025-10-29T19:48:31.980717Z",
     "iopub.status.idle": "2025-10-29T19:48:31.982536Z",
     "shell.execute_reply": "2025-10-29T19:48:31.982339Z"
    }
   },
   "outputs": [],
   "source": [
    "# TODO: Calculate cholesterol ratio\n",
    "df['cholesterol_ratio'] = df['cholesterol_total'] / df['cholesterol_hdl']"
   ]
  },
  {
   "cell_type": "code",
   "execution_count": 4,
   "metadata": {
    "execution": {
     "iopub.execute_input": "2025-10-29T19:48:31.983756Z",
     "iopub.status.busy": "2025-10-29T19:48:31.983682Z",
     "iopub.status.idle": "2025-10-29T19:48:31.986458Z",
     "shell.execute_reply": "2025-10-29T19:48:31.986271Z"
    }
   },
   "outputs": [],
   "source": [
    "# TODO: Categorize blood pressure\n",
    "\n",
    "def categorize_systolic(systolic_bp):\n",
    "    if systolic_bp < 120:\n",
    "        return 'Normal'\n",
    "    if 120 <= systolic_bp <= 129:\n",
    "        return 'Elevated'\n",
    "    if systolic_bp >= 130:\n",
    "        return 'High'\n",
    "\n",
    "df['bp_category'] = df['systolic_bp'].apply(categorize_systolic)\n",
    "# create_bins(df, \"systolic_bp\", bins =[-float('inf'), 120, 129, float('inf')], labels = ['Normal', 'Elevated', 'High'], new_column = \"bp_category\")"
   ]
  },
  {
   "cell_type": "markdown",
   "metadata": {},
   "source": [
    "**Note:** The `create_bins()` function has an optional `new_column` parameter. If you don't specify it, the new column will be named `{original_column}_binned`. You can use `new_column='age_group'` to give it a custom name.\n"
   ]
  },
  {
   "cell_type": "code",
   "execution_count": 5,
   "metadata": {
    "execution": {
     "iopub.execute_input": "2025-10-29T19:48:31.987600Z",
     "iopub.status.busy": "2025-10-29T19:48:31.987535Z",
     "iopub.status.idle": "2025-10-29T19:48:31.990698Z",
     "shell.execute_reply": "2025-10-29T19:48:31.990401Z"
    }
   },
   "outputs": [],
   "source": [
    "# TODO: Create age groups\n",
    "df = create_bins(df, 'age', bins=[0, 40, 55, 70, 100], labels=['<40', '40-54', '55-69', '70+'], new_column='age_group')"
   ]
  },
  {
   "cell_type": "code",
   "execution_count": 6,
   "metadata": {
    "execution": {
     "iopub.execute_input": "2025-10-29T19:48:31.991849Z",
     "iopub.status.busy": "2025-10-29T19:48:31.991784Z",
     "iopub.status.idle": "2025-10-29T19:48:31.994550Z",
     "shell.execute_reply": "2025-10-29T19:48:31.994365Z"
    }
   },
   "outputs": [],
   "source": [
    "# TODO: Create BMI categories\n",
    "def categorize_bmi(bmi):\n",
    "    if bmi < 18.5:\n",
    "        return 'Underweight'\n",
    "    if 18.5 <= bmi <=24.9:\n",
    "        return 'Normal'\n",
    "    if 25 <= bmi <=29.9:\n",
    "        return 'Overweight'\n",
    "    if bmi >=30:\n",
    "        return 'Obese'\n",
    "\n",
    "df['bmi_category'] = df['bmi'].apply(categorize_bmi)\n",
    "# create_bins(df, 'bmi', bins=[-float('inf'), 18.5, 25, 29.9, float('inf')], labels=['Underweight', 'Normal', 'Overweight', 'Obese'], new_column='bmi_category')"
   ]
  },
  {
   "cell_type": "markdown",
   "metadata": {},
   "source": [
    "## Part 3: String Cleaning (2 points)\n",
    "\n",
    "If there are any string columns that need cleaning:\n",
    "1. Convert to lowercase\n",
    "2. Strip whitespace\n",
    "3. Replace any placeholder values"
   ]
  },
  {
   "cell_type": "code",
   "execution_count": 7,
   "metadata": {
    "execution": {
     "iopub.execute_input": "2025-10-29T19:48:31.995797Z",
     "iopub.status.busy": "2025-10-29T19:48:31.995733Z",
     "iopub.status.idle": "2025-10-29T19:48:32.040134Z",
     "shell.execute_reply": "2025-10-29T19:48:32.039905Z"
    }
   },
   "outputs": [],
   "source": [
    "# TODO: String cleaning\n",
    "df['sex'] = df['sex'].str.strip().str.lower()\n",
    "df['sex'] = df['sex'].replace({\"f\": \"female\", \"m\": \"male\"})\n",
    "df[\"outcome_cvd\"] = df[\"outcome_cvd\"].str.strip().str.lower()\n",
    "df.to_csv(\"output/q6_load_this_data.csv\", index = False)"
   ]
  },
  {
   "cell_type": "markdown",
   "metadata": {},
   "source": [
    "## Part 4: One-Hot Encoding (5 points)\n",
    "\n",
    "Create dummy variables for categorical columns:\n",
    "1. One-hot encode 'intervention_group' using `pd.get_dummies()`\n",
    "2. One-hot encode 'site'\n",
    "3. Drop the original categorical columns\n",
    "4. Show the new shape and column names"
   ]
  },
  {
   "cell_type": "code",
   "execution_count": 8,
   "metadata": {
    "execution": {
     "iopub.execute_input": "2025-10-29T19:48:32.041500Z",
     "iopub.status.busy": "2025-10-29T19:48:32.041416Z",
     "iopub.status.idle": "2025-10-29T19:48:32.045530Z",
     "shell.execute_reply": "2025-10-29T19:48:32.045330Z"
    }
   },
   "outputs": [
    {
     "name": "stdout",
     "output_type": "stream",
     "text": [
      "(10000, 28)\n",
      "Index(['patient_id', 'age', 'sex', 'bmi', 'enrollment_date', 'systolic_bp',\n",
      "       'diastolic_bp', 'cholesterol_total', 'cholesterol_hdl',\n",
      "       'cholesterol_ldl', 'glucose_fasting', 'follow_up_months',\n",
      "       'adverse_events', 'outcome_cvd', 'adherence_pct', 'dropout',\n",
      "       'cholesterol_ratio', 'bp_category', 'age_group', 'bmi_category',\n",
      "       'intervention_group_control', 'intervention_group_treatment a',\n",
      "       'intervention_group_treatment b', 'site_site a', 'site_site b',\n",
      "       'site_site c', 'site_site d', 'site_site e'],\n",
      "      dtype='object')\n"
     ]
    }
   ],
   "source": [
    "# TODO: One-hot encoding\n",
    "df = pd.get_dummies(df, columns=['intervention_group', 'site'], dtype='int64')\n",
    "print(df.shape)\n",
    "print(df.columns)"
   ]
  },
  {
   "cell_type": "markdown",
   "metadata": {},
   "source": [
    "## Part 5: Save Transformed Data\n",
    "\n",
    "Save the fully transformed dataset to `output/q6_transformed_data.csv`"
   ]
  },
  {
   "cell_type": "code",
   "execution_count": 9,
   "metadata": {
    "execution": {
     "iopub.execute_input": "2025-10-29T19:48:32.046710Z",
     "iopub.status.busy": "2025-10-29T19:48:32.046643Z",
     "iopub.status.idle": "2025-10-29T19:48:32.090404Z",
     "shell.execute_reply": "2025-10-29T19:48:32.090197Z"
    }
   },
   "outputs": [],
   "source": [
    "# TODO: Save transformed data\n",
    "# df_transformed.to_csv('output/q6_transformed_data.csv', index=False)\n",
    "df.to_csv('output/q6_transformed_data.csv', index=False)"
   ]
  }
 ],
 "metadata": {
  "kernelspec": {
   "display_name": "p3 (3.10.13)",
   "language": "python",
   "name": "python3"
  },
  "language_info": {
   "codemirror_mode": {
    "name": "ipython",
    "version": 3
   },
   "file_extension": ".py",
   "mimetype": "text/x-python",
   "name": "python",
   "nbconvert_exporter": "python",
   "pygments_lexer": "ipython3",
   "version": "3.10.13"
  }
 },
 "nbformat": 4,
 "nbformat_minor": 2
}
